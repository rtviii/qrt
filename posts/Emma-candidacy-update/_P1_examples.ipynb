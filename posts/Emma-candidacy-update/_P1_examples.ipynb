{
 "cells": [
  {
   "cell_type": "code",
   "execution_count": 1,
   "id": "0ba2dc44-2076-488c-b87c-3ae67f04cb03",
   "metadata": {},
   "outputs": [],
   "source": [
    "using Markdown, LinearAlgebra, Roots, Random, ForwardDiff, NLsolve"
   ]
  },
  {
   "cell_type": "code",
   "execution_count": 5,
   "id": "ecd1d34c-d4e8-4203-b420-1c1701e658b1",
   "metadata": {},
   "outputs": [
    {
     "name": "stdout",
     "output_type": "stream",
     "text": [
      "gamma0 is: [0.3462950925745081;;]\n",
      "iteration: 5, norm(y1-y0): 3.0830893393840597e-12\n",
      " 64.664598 seconds (43.79 M allocations: 2.729 GiB, 3.75% gc time, 99.95% compilation time)\n",
      "X_opt = [1.000000000003083 0.0 0.0; 0.0 1.000000000003083 0.0; 0.0 0.0 1.0]\n",
      "λ_opt = [-3.082987424379846e-12;;]\n",
      "feasibility Bool[1]. Want [6.1661786787681194e-12] close to 0\n",
      "KKT close to 0: Bool[1 1 1; 1 1 1; 1 1 1]\n",
      "eigenvalues greater than 0: Bool[1, 1, 1]\n",
      "the gamma error is: 3.082987424379846e-12\n",
      "the X error is: 4.360146757764844e-12\n"
     ]
    }
   ],
   "source": [
    "# Example 1: one constraint with diagonal matrix\n",
    "let\n",
    "\tm = 3\n",
    "\tn = 1\n",
    "\tA_vn = [diagm([1,1,0])]\n",
    "\tb_vn = [2]\n",
    "\terr_val = 0.000001\n",
    "\t\n",
    "\tY_vn = diagm(ones(m))\n",
    "\n",
    "\tf(x) = sum(exp.(x)) #vector function that induces the spectral function\n",
    "\t∇F(X) = log(X)\n",
    "\t∇Fc(X) = exp(X)\n",
    "\n",
    "\tX_opt, γ_opt = @time project_QE(f,∇F,∇Fc,A_vn,b_vn,Y_vn,error=err_val,maxits=10000)\n",
    "\n",
    "\tprint(\"X_opt = \",X_opt,'\\n')\n",
    "\tprint(\"λ_opt = \",γ_opt,'\\n')\n",
    "\n",
    "\t# Check KKT\n",
    "\tprint(\"feasibility \",[dot(A_vn[i],X_opt) for i in 1:n] - b_vn .<= err_val, \". Want \", [dot(A_vn[i],X_opt) for i in 1:n] - b_vn, \" close to 0\",'\\n')\n",
    "\tprint(\"KKT close to 0: \", ∇F(X_opt) - ∇F(Y_vn) + sum(γ_opt.*A_vn) .<= err_val ,'\\n')\n",
    "\tprint(\"eigenvalues greater than 0: \",eigvals(X_opt) .> 0,'\\n')\n",
    "\n",
    "\t# Errors\n",
    "\tprint(\"the gamma error is: \", abs(γ_opt[1] - 0),'\\n')\n",
    "\tprint(\"the X error is: \", norm(X_opt-diagm(ones(m))),'\\n')\n",
    "end"
   ]
  },
  {
   "cell_type": "code",
   "execution_count": 6,
   "id": "8e9586ec-d0b2-4fae-a929-960a8c6247af",
   "metadata": {},
   "outputs": [
    {
     "name": "stdout",
     "output_type": "stream",
     "text": [
      "gamma0 is: [0.393571541818456 0.6569000531170608]\n",
      "iteration: 43, norm(y1-y0): 6.519041792662065e-7\n",
      "  6.327675 seconds (3.77 M allocations: 273.750 MiB, 1.24% gc time, 99.07% compilation time)\n",
      "X_opt = [0.11120655443413807 -0.0196819759835805 -0.0025000602864730355; -0.0196819759835805 0.25008732587666865 -0.3583875157158306; -0.0025000602864730355 -0.3583875157158306 0.7060445089616877]\n",
      "λ_opt = [0.07189973765767474 0.3445262782681904]\n",
      "feasibility: Bool[0; 0;;]. Want [1.0452266402172228e-5; 4.705491566836528e-6;;] close to 0\n",
      "KKT close to 0: Bool[1 1 1; 1 1 1; 1 1 1]\n",
      "eigenvalues greater than 0: Bool[1, 1, 1]\n",
      "the gamma error is: 0.8164811532730502\n",
      "the X error is: 0.5911480053947579\n"
     ]
    }
   ],
   "source": [
    "# Example 2: two contraints with random matrices\n",
    "let\n",
    "\tm = 3\n",
    "\tn = 2\n",
    "\t# A_vn = [diagm([1,1,0]),diagm([0,1,1])] #must be in form: list of m nxn matrices\n",
    "\tA_vn = [Symmetric(10 .*rand(3,3)),Symmetric(7 .*rand(3,3))]\n",
    "\tb_vn = [2 1] #must be in form: 1xm matrix\n",
    "\terr_val = 0.000001\n",
    "\t\n",
    "\tY_vn = diagm(ones(m))\n",
    "\n",
    "\tf(x) = sum(exp.(x)) #vector function that induces the spectral function\n",
    "\t∇F(X) = log(X)\n",
    "\t∇Fc(X) = exp(X)\n",
    "\n",
    "\tX_opt, γ_opt = @time project_QE(f,∇F,∇Fc,A_vn,b_vn,Y_vn,error=err_val,maxits=10000)\n",
    "\n",
    "\tprint(\"X_opt = \",X_opt,'\\n')\n",
    "\tprint(\"λ_opt = \",γ_opt,'\\n')\n",
    "\n",
    "\t# Check KKT\n",
    "\tprint(\"feasibility: \",reshape([dot(A_vn[i],X_opt) for i in 1:size(A_vn)[1]],size(A_vn)[1],1) - b_vn' .<= err_val, \". Want \", reshape([dot(A_vn[i],X_opt) for i in 1:size(A_vn)[1]],size(A_vn)[1],1) - b_vn', \" close to 0\",'\\n')\n",
    "\t\n",
    "\tprint(\"KKT close to 0: \", ∇F(X_opt) - ∇F(Y_vn) + (γ_opt*A_vn)[1] .<= err_val ,'\\n')\n",
    "\t\n",
    "\tprint(\"eigenvalues greater than 0: \",eigvals(X_opt) .> 0,'\\n')\n",
    "\t\n",
    "\tγ1_theo = -γ_opt[2]-log(1-exp(-γ_opt[2])) #pretty darn close to analytic answer\n",
    "\tγ_theo = [γ1_theo γ_opt[2]]\n",
    "\t\n",
    "\t# Errors\n",
    "\tprint(\"the gamma error is: \", norm(γ_theo-γ_opt),'\\n')\n",
    "\tprint(\"the X error is: \", norm(X_opt-diagm([exp(-γ_theo[1]), exp(-(γ_theo[1] +γ_theo[2])), exp(-γ_theo[2])])),'\\n')\n",
    "end"
   ]
  },
  {
   "cell_type": "code",
   "execution_count": 11,
   "id": "e2166dec-e1a3-43bd-baef-6634aecf547c",
   "metadata": {},
   "outputs": [
    {
     "name": "stdout",
     "output_type": "stream",
     "text": [
      "gamma0 is: [0.034954716470702474 -0.1013013323302212 0.8222494099155575 0.09185436248200252]\n",
      "iteration: 7, norm(y1-y0): 5.822909748089552e-8\n",
      "  1.217354 seconds (477.31 k allocations: 38.006 MiB, 97.46% compilation time)\n",
      "X_opt = [1.0004619351895343 -0.19491893288797332 -0.3291500790701174 -0.10160239978460069 -0.34656167628147233 -0.09265501406660769; -0.19491893288797332 0.5358903850051054 -0.13875452678324782 -0.055861666665844745 0.09073230766953318 -0.06287676512707863; -0.3291500790701174 -0.13875452678324782 0.9088803874504522 0.03882186714488447 -0.16751181956687372 -0.25717989356688803; -0.10160239978460069 -0.055861666665844745 0.03882186714488447 0.4603749279170144 -0.1175212294995559 0.058098051782855556; -0.34656167628147233 0.09073230766953318 -0.16751181956687372 -0.1175212294995559 0.8194859980013043 -0.2445226105378603; -0.09265501406660769 -0.06287676512707863 -0.25717989356688803 0.058098051782855556 -0.2445226105378603 0.6275448272663195]\n",
      "λ_opt = [-0.032782985141199976 0.0945073669494556 0.07575886648918707 0.029783223852441046]\n",
      "feasibility: Bool[0; 0; 0; 0;;]. Want [4.384082157748992e-6; 5.048605136614981e-6; 1.4124225948819458e-6; 5.586103089427752e-6;;] close to 0\n",
      "KKT close to 0: Bool[1 1 1 1 1 1; 1 1 1 1 1 1; 1 1 1 1 1 1; 1 1 1 1 1 1; 1 1 1 1 1 1; 1 1 1 1 1 1]\n",
      "eigenvalues greater than 0: Bool[1, 1, 1, 1, 1, 1]\n"
     ]
    }
   ],
   "source": [
    "# Example 3: \n",
    "let\n",
    "\tm = 4\n",
    "\tn = 6\n",
    "\t# A_vn = [diagm([1,1,0]),diagm([0,1,1])] #must be in form: list of m nxn matrices\n",
    "\tA_vn = [Symmetric(10 .*rand(n,n)),Symmetric(7 .*rand(n,n)),Symmetric(4 .*rand(n,n)),Symmetric(8 .*rand(n,n))]\n",
    "\tb_vn = [2 1 3 5] #must be in form: 1xm matrix\n",
    "\terr_val = 0.000001\n",
    "\t\n",
    "\tY_vn = diagm(ones(n))\n",
    "\n",
    "\tf(x) = sum(exp.(x)) #vector function that induces the spectral function\n",
    "\t∇F(X) = log(X)\n",
    "\t∇Fc(X) = exp(X)\n",
    "\n",
    "\tX_opt, γ_opt = @time project_QE(f,∇F,∇Fc,A_vn,b_vn,Y_vn,error=err_val,maxits=10000)\n",
    "\n",
    "\tprint(\"X_opt = \",X_opt,'\\n')\n",
    "\tprint(\"λ_opt = \",γ_opt,'\\n')\n",
    "\n",
    "\t# Check KKT\n",
    "\tprint(\"feasibility: \",reshape([dot(A_vn[i],X_opt) for i in 1:size(A_vn)[1]],size(A_vn)[1],1) - b_vn' .<= err_val, \". Want \", reshape([dot(A_vn[i],X_opt) for i in 1:size(A_vn)[1]],size(A_vn)[1],1) - b_vn', \" close to 0\",'\\n')\n",
    "\t\n",
    "\tprint(\"KKT close to 0: \", ∇F(X_opt) - ∇F(Y_vn) + (γ_opt*A_vn)[1] .<= err_val ,'\\n')\n",
    "\t\n",
    "\tprint(\"eigenvalues greater than 0: \",eigvals(X_opt) .> 0,'\\n')\n",
    "end"
   ]
  },
  {
   "cell_type": "code",
   "execution_count": 2,
   "id": "c310a534-d3d1-4b97-9392-7280c7ac7378",
   "metadata": {},
   "outputs": [
    {
     "data": {
      "text/plain": [
       "newton2 (generic function with 1 method)"
      ]
     },
     "execution_count": 2,
     "metadata": {},
     "output_type": "execute_result"
    }
   ],
   "source": [
    "# Newton's method\n",
    "function newton2(h, Dh, yo, tol;maxiter=1000)\n",
    "\titer = 0\n",
    "\ty1 = ones(size(yo))\n",
    "\td0 = norm(h(yo)).*ones(size(yo)) #copy(yo)\n",
    "\tfor i in 1:maxiter\n",
    "\t\titer += 1\n",
    "\n",
    "\t\tdfunc(x) = Dh(yo,x) - h(yo)\n",
    "\t\tdsol = nlsolve(dfunc,d0)\n",
    "\t\td1= dsol.zero\n",
    "\t\ty1 = yo - 1*d1\n",
    "\n",
    "\t\tif mod(iter,50)==0\n",
    "\t\t\tprint(\"iteration: \", iter,\", norm(y1-y0): \",norm(y1-yo),'\\n')\n",
    "\t\t\t# print(\"α is: \",α,'\\n')\n",
    "\t\tend\n",
    "\t\t\t\n",
    "\t\tif (norm(y1-yo)) < tol \n",
    "\t\t\tprint(\"iteration: \", iter,\", norm(y1-y0): \",norm(y1-yo),'\\n')\n",
    "\t\t\tbreak\n",
    "\t\telseif isnan(norm(y1-yo)) \n",
    "\t\t\tprint(\"norm undefined\",'\\n')\n",
    "\t\t\tprint(\"nabla h is: \",Dh(yo,d0),'\\n')\n",
    "\t\t\tprint(\"h is: \",h(yo),'\\n')\n",
    "\t\t\tbreak\n",
    "\t\tend\n",
    "\t\t\n",
    "\t\tyo = copy(y1)\n",
    "\t\td0 = copy(d1)\n",
    "\tend\n",
    "\tif iter==maxiter\n",
    "\t\tprint(\"maximum iterations reached. program terminated\",'\\n')\n",
    "\tend\n",
    "\treturn yo\n",
    "end"
   ]
  },
  {
   "cell_type": "code",
   "execution_count": 3,
   "id": "abc2d5b2-fefa-46b3-9099-2efa8107e296",
   "metadata": {},
   "outputs": [
    {
     "data": {
      "text/plain": [
       "mat_der (generic function with 1 method)"
      ]
     },
     "execution_count": 3,
     "metadata": {},
     "output_type": "execute_result"
    }
   ],
   "source": [
    "# matrix function derivative\n",
    "function mat_der(f,X,H)\n",
    "\tE = eigen(X)\n",
    "\tΛ = E.values # vector of eigenvalues\n",
    "\tW = E.vectors # matrix of eigenvectors\n",
    "\n",
    "\tonediv = zeros(size(X))\n",
    "\tfor i=1:length(Λ)\n",
    "\t\tfor j=1:length(Λ)\n",
    "\t\t\tif Λ[i] == Λ[j]\n",
    "\t\t\t\tonediv[i,j] = ForwardDiff.derivative(f,Λ[i])\n",
    "\t\t\telse\n",
    "\t\t\t\tonediv[i,j] = (f(Λ[i])-f(Λ[j]))/(Λ[i]-Λ[j])\n",
    "\t\t\tend\n",
    "\t\tend\n",
    "\tend\n",
    "\n",
    "\treturn W*(onediv.*(W'*H*W))*W'\n",
    "end"
   ]
  },
  {
   "cell_type": "code",
   "execution_count": 4,
   "id": "f25a205f-4d3d-423c-9876-0e29c6b0283b",
   "metadata": {},
   "outputs": [
    {
     "data": {
      "text/plain": [
       "project_QE (generic function with 1 method)"
      ]
     },
     "execution_count": 4,
     "metadata": {},
     "output_type": "execute_result"
    }
   ],
   "source": [
    "# quantum entropy projection\n",
    "function project_QE(f,∇F,∇Fc,A_vn,b_vn,Y_vn;error=0.005,maxits=1000)\n",
    "\tcal_A(X) = reshape([dot(A_vn[i],X) for i in 1:size(A_vn)[1]],size(A_vn)[1],1)\n",
    "\tcal_Ac(x) = (x*A_vn)[1]\n",
    "\tφ(x) = ∇F(Y_vn) - cal_Ac(x)\n",
    "\tD∇Fc(X,H) = mat_der(f,X,H)\n",
    "\n",
    "\tH(γ) = cal_A(∇Fc(φ(γ))) - transpose(b_vn)\n",
    "\tDH(γ,x) = cal_A(D∇Fc(φ(γ),-cal_Ac(x)))\n",
    "\n",
    "\tγ0 = 2*rand(1,size(A_vn)[1]).-1 # range close to that found from bracketing method used in out of box solver\n",
    "\t\n",
    "\tprint(\"gamma0 is: \", γ0,'\\n')\n",
    "\t\n",
    "\tγ_opt = newton2(H, DH, γ0, error,maxiter=maxits)\n",
    "\tX_opt = ∇Fc(φ(γ_opt))\n",
    "\t\n",
    "\t# return DH(γ0,γ0),1\n",
    "\treturn X_opt, γ_opt\n",
    "end"
   ]
  },
  {
   "cell_type": "code",
   "execution_count": null,
   "id": "68a3e56f-38ad-425b-b70d-d5a71012efab",
   "metadata": {},
   "outputs": [],
   "source": []
  }
 ],
 "metadata": {
  "kernelspec": {
   "display_name": "Julia 1.10.1",
   "language": "julia",
   "name": "julia-1.10"
  },
  "language_info": {
   "file_extension": ".jl",
   "mimetype": "application/julia",
   "name": "julia",
   "version": "1.10.1"
  }
 },
 "nbformat": 4,
 "nbformat_minor": 5
}
